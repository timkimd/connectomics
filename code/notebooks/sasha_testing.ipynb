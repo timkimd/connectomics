{
 "cells": [
  {
   "cell_type": "code",
   "execution_count": null,
   "id": "77d8ea5d-7ac8-4373-b24f-d76f343dcb80",
   "metadata": {
    "tags": []
   },
   "outputs": [],
   "source": [
    "import sys\n",
    "import os\n",
    "from os.path import join as pjoin\n",
    "import platform\n",
    "from caveclient import CAVEclient\n",
    "import skeleton_plot as skelplot\n",
    "import pandas as pd\n",
    "import numpy as np\n",
    "from matplotlib import pyplot as plt\n",
    "import seaborn as sns\n",
    "from scipy.sparse import csr_array\n",
    "from typing import Union, Optional\n",
    "import glob\n",
    "from hdmf_zarr import NWBZarrIO\n",
    "from nwbwidgets import nwb2widget\n",
    "\n",
    "# Set the utils path\n",
    "utils_dir = pjoin(\"..\", \"utils\")\n",
    "\n",
    "# Add utilities to path\n",
    "sys.path.append(utils_dir)\n",
    "from data_io import *\n",
    "from utils import filter_synapse_table, check_index, adjacencyplot\n",
    "from data_io import _get_data_dir"
   ]
  },
  {
   "cell_type": "code",
   "execution_count": null,
   "id": "93e71db4-9994-4466-b8e9-4ab4cb1c775c",
   "metadata": {
    "tags": []
   },
   "outputs": [],
   "source": [
    "# Initialize CAVEclient\n",
    "client = CAVEclient(\"v1dd_public\", server_address=\"https://global.em.brain.allentech.org\", auth_token=os.environ[\"API_SECRET\"])"
   ]
  },
  {
   "cell_type": "code",
   "execution_count": null,
   "id": "2e95acd1",
   "metadata": {},
   "outputs": [],
   "source": [
    "metadata = pd.read_csv(os.path.join(data_dir, 'metadata', 'V1DD_metadata.csv'))\n",
    "metadata.head()"
   ]
  },
  {
   "cell_type": "code",
   "execution_count": null,
   "id": "16a3fb9a",
   "metadata": {},
   "outputs": [],
   "source": [
    "subject_ids = np.sort(metadata['subject_id'].unique())\n",
    "subject_id = subject_ids[0]\n",
    "print('Selected subject_id is', subject_id)\n",
    "\n",
    "# Look at its metadata, sorted by 'session_number'\n",
    "this_mouse_metadata = metadata[metadata['subject_id']==subject_id].sort_values(by='session_date')\n",
    "this_mouse_metadata"
   ]
  },
  {
   "cell_type": "code",
   "execution_count": null,
   "id": "246491c1",
   "metadata": {},
   "outputs": [],
   "source": [
    "this_mouse_metadata = metadata[metadata['subject_id']==subject_id].sort_values(by='session_date')\n",
    "this_mouse_metadata"
   ]
  },
  {
   "cell_type": "code",
   "execution_count": null,
   "id": "087fde62-4ef3-43c0-a495-5ac3bc8cf7c5",
   "metadata": {
    "tags": []
   },
   "outputs": [],
   "source": [
    "data_dir = '/data/'\n",
    "mouse_id = '409828'\n",
    "mouse_dir = glob.glob((os.path.join(data_dir, mouse_id+'*')))[0]\n",
    "mouse_dir"
   ]
  },
  {
   "cell_type": "code",
   "execution_count": null,
   "id": "998e55ec",
   "metadata": {},
   "outputs": [],
   "source": [
    "session_name = this_mouse_metadata.name.values[-1]\n",
    "print('Selected session is', session_name)"
   ]
  },
  {
   "cell_type": "code",
   "execution_count": null,
   "id": "6e239ba8",
   "metadata": {},
   "outputs": [],
   "source": [
    "session_dir = os.path.join(mouse_dir, session_name)\n",
    "print(session_dir)"
   ]
  },
  {
   "cell_type": "code",
   "execution_count": null,
   "id": "de17af2c",
   "metadata": {},
   "outputs": [],
   "source": [
    "nwb_file = [file for file in os.listdir(session_dir) if 'nwb' in file][0]\n",
    "nwb_path = os.path.join(session_dir, nwb_file)\n",
    "print(nwb_path)"
   ]
  },
  {
   "cell_type": "code",
   "execution_count": null,
   "id": "668d293a",
   "metadata": {},
   "outputs": [],
   "source": [
    "with NWBZarrIO(str(nwb_path), 'r') as io:\n",
    "    nwbfile = io.read()\n",
    "    print('Loaded NWB file from:', nwb_path)"
   ]
  },
  {
   "cell_type": "code",
   "execution_count": null,
   "id": "ce72f574",
   "metadata": {},
   "outputs": [],
   "source": [
    "nwbfile"
   ]
  }
 ],
 "metadata": {
  "kernelspec": {
   "display_name": "Python 3 (ipykernel)",
   "language": "python",
   "name": "python3"
  },
  "language_info": {
   "codemirror_mode": {
    "name": "ipython",
    "version": 3
   },
   "file_extension": ".py",
   "mimetype": "text/x-python",
   "name": "python",
   "nbconvert_exporter": "python",
   "pygments_lexer": "ipython3",
   "version": "3.10.12"
  }
 },
 "nbformat": 4,
 "nbformat_minor": 5
}
