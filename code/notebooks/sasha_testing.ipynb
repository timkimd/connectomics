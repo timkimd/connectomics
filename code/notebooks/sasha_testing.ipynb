{
 "cells": [
  {
   "cell_type": "code",
   "execution_count": 2,
   "id": "77d8ea5d-7ac8-4373-b24f-d76f343dcb80",
   "metadata": {
    "tags": []
   },
   "outputs": [
    {
     "ename": "ModuleNotFoundError",
     "evalue": "No module named 'opencv'",
     "output_type": "error",
     "traceback": [
      "\u001b[0;31m---------------------------------------------------------------------------\u001b[0m",
      "\u001b[0;31mModuleNotFoundError\u001b[0m                       Traceback (most recent call last)",
      "Cell \u001b[0;32mIn[2], line 3\u001b[0m\n\u001b[1;32m      1\u001b[0m \u001b[38;5;28;01mimport\u001b[39;00m \u001b[38;5;21;01msys\u001b[39;00m\n\u001b[1;32m      2\u001b[0m \u001b[38;5;28;01mimport\u001b[39;00m \u001b[38;5;21;01mos\u001b[39;00m\n\u001b[0;32m----> 3\u001b[0m \u001b[38;5;28;01mimport\u001b[39;00m \u001b[38;5;21;01mopencv\u001b[39;00m\n\u001b[1;32m      4\u001b[0m \u001b[38;5;28;01mfrom\u001b[39;00m \u001b[38;5;21;01mos\u001b[39;00m\u001b[38;5;21;01m.\u001b[39;00m\u001b[38;5;21;01mpath\u001b[39;00m \u001b[38;5;28;01mimport\u001b[39;00m join \u001b[38;5;28;01mas\u001b[39;00m pjoin\n\u001b[1;32m      5\u001b[0m \u001b[38;5;28;01mimport\u001b[39;00m \u001b[38;5;21;01mplatform\u001b[39;00m\n",
      "\u001b[0;31mModuleNotFoundError\u001b[0m: No module named 'opencv'"
     ]
    }
   ],
   "source": [
    "import sys\n",
    "import os\n",
    "import opencv\n",
    "from os.path import join as pjoin\n",
    "import platform\n",
    "from caveclient import CAVEclient\n",
    "import skeleton_plot as skelplot\n",
    "import pandas as pd\n",
    "import numpy as np\n",
    "from matplotlib import pyplot as plt\n",
    "import seaborn as sns\n",
    "from scipy.sparse import csr_array\n",
    "from typing import Union, Optional\n",
    "import glob\n",
    "from hdmf_zarr import NWBZarrIO\n",
    "from nwbwidgets import nwb2widget\n",
    "\n",
    "# Set the utils path\n",
    "utils_dir = pjoin(\"..\", \"utils\")\n",
    "\n",
    "# Add utilities to path\n",
    "sys.path.append(utils_dir)\n",
    "from data_io import *\n",
    "from utils import filter_synapse_table, check_index, adjacencyplot\n",
    "from data_io import _get_data_dir"
   ]
  },
  {
   "cell_type": "code",
   "execution_count": 2,
   "id": "93e71db4-9994-4466-b8e9-4ab4cb1c775c",
   "metadata": {
    "tags": []
   },
   "outputs": [],
   "source": [
    "# Initialize CAVEclient\n",
    "client = CAVEclient(\"v1dd_public\", server_address=\"https://global.em.brain.allentech.org\", auth_token=os.environ[\"API_SECRET\"])"
   ]
  },
  {
   "cell_type": "code",
   "execution_count": 4,
   "id": "2e95acd1",
   "metadata": {},
   "outputs": [
    {
     "data": {
      "text/html": [
       "<div>\n",
       "<style scoped>\n",
       "    .dataframe tbody tr th:only-of-type {\n",
       "        vertical-align: middle;\n",
       "    }\n",
       "\n",
       "    .dataframe tbody tr th {\n",
       "        vertical-align: top;\n",
       "    }\n",
       "\n",
       "    .dataframe thead th {\n",
       "        text-align: right;\n",
       "    }\n",
       "</style>\n",
       "<table border=\"1\" class=\"dataframe\">\n",
       "  <thead>\n",
       "    <tr style=\"text-align: right;\">\n",
       "      <th></th>\n",
       "      <th>project_name</th>\n",
       "      <th>_id</th>\n",
       "      <th>name</th>\n",
       "      <th>subject_id</th>\n",
       "      <th>golden_mouse</th>\n",
       "      <th>genotype</th>\n",
       "      <th>date_of_birth</th>\n",
       "      <th>sex</th>\n",
       "      <th>modality</th>\n",
       "      <th>session_date</th>\n",
       "      <th>age</th>\n",
       "      <th>session_time</th>\n",
       "      <th>column</th>\n",
       "      <th>volume</th>\n",
       "    </tr>\n",
       "  </thead>\n",
       "  <tbody>\n",
       "    <tr>\n",
       "      <th>0</th>\n",
       "      <td>V1 Deep Dive</td>\n",
       "      <td>3b85c659-20c8-438f-ab58-de1aac3b81cf</td>\n",
       "      <td>416296_2018-11-29_12-08-40_nwb_2025-08-08_16-2...</td>\n",
       "      <td>416296</td>\n",
       "      <td>False</td>\n",
       "      <td>Camk2a-tTA/wt;tetO-GCaMP6s/wt</td>\n",
       "      <td>2018-08-06</td>\n",
       "      <td>Female</td>\n",
       "      <td>['Planar optical physiology', 'Behavior videos']</td>\n",
       "      <td>2018-11-29</td>\n",
       "      <td>115</td>\n",
       "      <td>12:08:40.014190</td>\n",
       "      <td>2</td>\n",
       "      <td>5</td>\n",
       "    </tr>\n",
       "    <tr>\n",
       "      <th>1</th>\n",
       "      <td>V1 Deep Dive</td>\n",
       "      <td>b98ce4a9-a66b-4b70-baa6-95ef451ae087</td>\n",
       "      <td>427836_2019-04-25_12-16-58_nwb_2025-08-08_16-2...</td>\n",
       "      <td>427836</td>\n",
       "      <td>False</td>\n",
       "      <td>Slc17a7-IRES2-Cre/wt;Camk2a-tTA/wt;Ai94(TITL-G...</td>\n",
       "      <td>2018-10-08</td>\n",
       "      <td>Female</td>\n",
       "      <td>['Planar optical physiology', 'Behavior videos']</td>\n",
       "      <td>2019-04-25</td>\n",
       "      <td>199</td>\n",
       "      <td>12:16:58.240890</td>\n",
       "      <td>5</td>\n",
       "      <td>3</td>\n",
       "    </tr>\n",
       "    <tr>\n",
       "      <th>2</th>\n",
       "      <td>V1 Deep Dive</td>\n",
       "      <td>5cccd09c-4ae8-4d8e-ae92-23099d22bbe2</td>\n",
       "      <td>427836_2019-04-24_13-06-45_nwb_2025-08-08_16-2...</td>\n",
       "      <td>427836</td>\n",
       "      <td>False</td>\n",
       "      <td>Slc17a7-IRES2-Cre/wt;Camk2a-tTA/wt;Ai94(TITL-G...</td>\n",
       "      <td>2018-10-08</td>\n",
       "      <td>Female</td>\n",
       "      <td>['Planar optical physiology', 'Behavior videos']</td>\n",
       "      <td>2019-04-24</td>\n",
       "      <td>198</td>\n",
       "      <td>13:06:45.257460</td>\n",
       "      <td>4</td>\n",
       "      <td>3</td>\n",
       "    </tr>\n",
       "    <tr>\n",
       "      <th>3</th>\n",
       "      <td>V1 Deep Dive</td>\n",
       "      <td>911d215f-dafa-4b39-86f7-b36336974da1</td>\n",
       "      <td>427836_2019-04-25_13-49-39_nwb_2025-08-08_16-2...</td>\n",
       "      <td>427836</td>\n",
       "      <td>False</td>\n",
       "      <td>Slc17a7-IRES2-Cre/wt;Camk2a-tTA/wt;Ai94(TITL-G...</td>\n",
       "      <td>2018-10-08</td>\n",
       "      <td>Female</td>\n",
       "      <td>['Planar optical physiology', 'Behavior videos']</td>\n",
       "      <td>2019-04-25</td>\n",
       "      <td>199</td>\n",
       "      <td>13:49:39.163550</td>\n",
       "      <td>5</td>\n",
       "      <td>4</td>\n",
       "    </tr>\n",
       "    <tr>\n",
       "      <th>4</th>\n",
       "      <td>V1 Deep Dive</td>\n",
       "      <td>c918f874-d534-4341-b0dc-f1aba388af66</td>\n",
       "      <td>427836_2019-04-26_12-54-40_nwb_2025-08-08_16-2...</td>\n",
       "      <td>427836</td>\n",
       "      <td>False</td>\n",
       "      <td>Slc17a7-IRES2-Cre/wt;Camk2a-tTA/wt;Ai94(TITL-G...</td>\n",
       "      <td>2018-10-08</td>\n",
       "      <td>Female</td>\n",
       "      <td>['Planar optical physiology', 'Behavior videos']</td>\n",
       "      <td>2019-04-26</td>\n",
       "      <td>200</td>\n",
       "      <td>12:54:40.332660</td>\n",
       "      <td>2</td>\n",
       "      <td>4</td>\n",
       "    </tr>\n",
       "  </tbody>\n",
       "</table>\n",
       "</div>"
      ],
      "text/plain": [
       "   project_name                                   _id  \\\n",
       "0  V1 Deep Dive  3b85c659-20c8-438f-ab58-de1aac3b81cf   \n",
       "1  V1 Deep Dive  b98ce4a9-a66b-4b70-baa6-95ef451ae087   \n",
       "2  V1 Deep Dive  5cccd09c-4ae8-4d8e-ae92-23099d22bbe2   \n",
       "3  V1 Deep Dive  911d215f-dafa-4b39-86f7-b36336974da1   \n",
       "4  V1 Deep Dive  c918f874-d534-4341-b0dc-f1aba388af66   \n",
       "\n",
       "                                                name  subject_id  \\\n",
       "0  416296_2018-11-29_12-08-40_nwb_2025-08-08_16-2...      416296   \n",
       "1  427836_2019-04-25_12-16-58_nwb_2025-08-08_16-2...      427836   \n",
       "2  427836_2019-04-24_13-06-45_nwb_2025-08-08_16-2...      427836   \n",
       "3  427836_2019-04-25_13-49-39_nwb_2025-08-08_16-2...      427836   \n",
       "4  427836_2019-04-26_12-54-40_nwb_2025-08-08_16-2...      427836   \n",
       "\n",
       "   golden_mouse                                           genotype  \\\n",
       "0         False                      Camk2a-tTA/wt;tetO-GCaMP6s/wt   \n",
       "1         False  Slc17a7-IRES2-Cre/wt;Camk2a-tTA/wt;Ai94(TITL-G...   \n",
       "2         False  Slc17a7-IRES2-Cre/wt;Camk2a-tTA/wt;Ai94(TITL-G...   \n",
       "3         False  Slc17a7-IRES2-Cre/wt;Camk2a-tTA/wt;Ai94(TITL-G...   \n",
       "4         False  Slc17a7-IRES2-Cre/wt;Camk2a-tTA/wt;Ai94(TITL-G...   \n",
       "\n",
       "  date_of_birth     sex                                          modality  \\\n",
       "0    2018-08-06  Female  ['Planar optical physiology', 'Behavior videos']   \n",
       "1    2018-10-08  Female  ['Planar optical physiology', 'Behavior videos']   \n",
       "2    2018-10-08  Female  ['Planar optical physiology', 'Behavior videos']   \n",
       "3    2018-10-08  Female  ['Planar optical physiology', 'Behavior videos']   \n",
       "4    2018-10-08  Female  ['Planar optical physiology', 'Behavior videos']   \n",
       "\n",
       "  session_date  age     session_time  column  volume  \n",
       "0   2018-11-29  115  12:08:40.014190       2       5  \n",
       "1   2019-04-25  199  12:16:58.240890       5       3  \n",
       "2   2019-04-24  198  13:06:45.257460       4       3  \n",
       "3   2019-04-25  199  13:49:39.163550       5       4  \n",
       "4   2019-04-26  200  12:54:40.332660       2       4  "
      ]
     },
     "execution_count": 4,
     "metadata": {},
     "output_type": "execute_result"
    }
   ],
   "source": [
    "data_dir = '/data/'\n",
    "metadata = pd.read_csv(os.path.join(data_dir, 'metadata', 'V1DD_metadata.csv'))\n",
    "metadata.head()"
   ]
  },
  {
   "cell_type": "code",
   "execution_count": null,
   "id": "16a3fb9a",
   "metadata": {},
   "outputs": [],
   "source": [
    "subject_ids = np.sort(metadata['subject_id'].unique())\n",
    "subject_id = subject_ids[0]\n",
    "print('Selected subject_id is', subject_id)\n",
    "\n",
    "# Look at its metadata, sorted by 'session_number'\n",
    "this_mouse_metadata = metadata[metadata['subject_id']==subject_id].sort_values(by='session_date')\n",
    "this_mouse_metadata"
   ]
  },
  {
   "cell_type": "code",
   "execution_count": null,
   "id": "246491c1",
   "metadata": {},
   "outputs": [],
   "source": [
    "this_mouse_metadata = metadata[metadata['subject_id']==subject_id].sort_values(by='session_date')\n",
    "this_mouse_metadata"
   ]
  },
  {
   "cell_type": "code",
   "execution_count": null,
   "id": "087fde62-4ef3-43c0-a495-5ac3bc8cf7c5",
   "metadata": {
    "tags": []
   },
   "outputs": [],
   "source": [
    "data_dir = '/data/'\n",
    "mouse_id = '409828'\n",
    "mouse_dir = glob.glob((os.path.join(data_dir, mouse_id+'*')))[0]\n",
    "mouse_dir"
   ]
  },
  {
   "cell_type": "code",
   "execution_count": null,
   "id": "998e55ec",
   "metadata": {},
   "outputs": [],
   "source": [
    "session_name = this_mouse_metadata.name.values[-1]\n",
    "print('Selected session is', session_name)"
   ]
  },
  {
   "cell_type": "code",
   "execution_count": null,
   "id": "6e239ba8",
   "metadata": {},
   "outputs": [],
   "source": [
    "session_dir = os.path.join(mouse_dir, session_name)\n",
    "print(session_dir)"
   ]
  },
  {
   "cell_type": "code",
   "execution_count": null,
   "id": "de17af2c",
   "metadata": {},
   "outputs": [],
   "source": [
    "nwb_file = [file for file in os.listdir(session_dir) if 'nwb' in file][0]\n",
    "nwb_path = os.path.join(session_dir, nwb_file)\n",
    "print(nwb_path)"
   ]
  },
  {
   "cell_type": "code",
   "execution_count": null,
   "id": "668d293a",
   "metadata": {},
   "outputs": [],
   "source": [
    "with NWBZarrIO(str(nwb_path), 'r') as io:\n",
    "    nwbfile = io.read()\n",
    "    print('Loaded NWB file from:', nwb_path)"
   ]
  },
  {
   "cell_type": "code",
   "execution_count": null,
   "id": "ce72f574",
   "metadata": {},
   "outputs": [],
   "source": [
    "nwbfile"
   ]
  }
 ],
 "metadata": {
  "kernelspec": {
   "display_name": "base",
   "language": "python",
   "name": "python3"
  },
  "language_info": {
   "codemirror_mode": {
    "name": "ipython",
    "version": 3
   },
   "file_extension": ".py",
   "mimetype": "text/x-python",
   "name": "python",
   "nbconvert_exporter": "python",
   "pygments_lexer": "ipython3",
   "version": "3.10.12"
  }
 },
 "nbformat": 4,
 "nbformat_minor": 5
}
