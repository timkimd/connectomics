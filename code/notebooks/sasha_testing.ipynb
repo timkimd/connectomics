{
 "cells": [
  {
   "cell_type": "code",
   "execution_count": 1,
   "id": "77d8ea5d-7ac8-4373-b24f-d76f343dcb80",
   "metadata": {
    "tags": []
   },
   "outputs": [],
   "source": [
    "import sys\n",
    "import os\n",
    "from os.path import join as pjoin\n",
    "import platform\n",
    "from caveclient import CAVEclient\n",
    "import skeleton_plot as skelplot\n",
    "import pandas as pd\n",
    "import numpy as np\n",
    "from matplotlib import pyplot as plt\n",
    "import seaborn as sns\n",
    "from scipy.sparse import csr_array\n",
    "from typing import Union, Optional\n",
    "\n",
    "# Set the utils path\n",
    "utils_dir = pjoin(\"..\", \"utils\")\n",
    "\n",
    "# Add utilities to path\n",
    "sys.path.append(utils_dir)\n",
    "from data_io import *\n",
    "from utils import filter_synapse_table, check_index, adjacencyplot\n",
    "from data_io import _get_data_dir"
   ]
  },
  {
   "cell_type": "code",
   "execution_count": 2,
   "id": "93e71db4-9994-4466-b8e9-4ab4cb1c775c",
   "metadata": {
    "tags": []
   },
   "outputs": [
    {
     "name": "stderr",
     "output_type": "stream",
     "text": [
      "Updated datastack-to-server cache — 'https://global.em.brain.allentech.org' will now be used by default for datastack 'v1dd_public'\n"
     ]
    }
   ],
   "source": [
    "# Initialize CAVEclient\n",
    "client = CAVEclient(\"v1dd_public\", server_address=\"https://global.em.brain.allentech.org\", auth_token=os.environ[\"API_SECRET\"])"
   ]
  },
  {
   "cell_type": "code",
   "execution_count": 4,
   "id": "087fde62-4ef3-43c0-a495-5ac3bc8cf7c5",
   "metadata": {
    "tags": []
   },
   "outputs": [
    {
     "ename": "FileNotFoundError",
     "evalue": "[Errno 2] No such file or directory: '/data/v1dd_1196/proofread_dendrite_list_1196.npy'",
     "output_type": "error",
     "traceback": [
      "\u001b[0;31m---------------------------------------------------------------------------\u001b[0m",
      "\u001b[0;31mFileNotFoundError\u001b[0m                         Traceback (most recent call last)",
      "Cell \u001b[0;32mIn[4], line 3\u001b[0m\n\u001b[1;32m      1\u001b[0m data_dir \u001b[38;5;241m=\u001b[39m _get_data_dir(linux_mount_location\u001b[38;5;241m=\u001b[39m\u001b[38;5;28;01mNone\u001b[39;00m, windows_usb_drive\u001b[38;5;241m=\u001b[39m\u001b[38;5;28;01mNone\u001b[39;00m)\n\u001b[1;32m      2\u001b[0m \u001b[38;5;66;03m# Loads cells with axon and dendrite proofreading\u001b[39;00m\n\u001b[0;32m----> 3\u001b[0m dendrite_proof_root_ids \u001b[38;5;241m=\u001b[39m \u001b[43mnp\u001b[49m\u001b[38;5;241;43m.\u001b[39;49m\u001b[43mload\u001b[49m\u001b[43m(\u001b[49m\n\u001b[1;32m      4\u001b[0m \u001b[43m    \u001b[49m\u001b[43mpjoin\u001b[49m\u001b[43m(\u001b[49m\u001b[43mdata_dir\u001b[49m\u001b[43m,\u001b[49m\u001b[43m \u001b[49m\u001b[38;5;124;43mf\u001b[39;49m\u001b[38;5;124;43m\"\u001b[39;49m\u001b[38;5;124;43mproofread_dendrite_list_\u001b[39;49m\u001b[38;5;132;43;01m{\u001b[39;49;00m\u001b[43mmat_version\u001b[49m\u001b[38;5;132;43;01m}\u001b[39;49;00m\u001b[38;5;124;43m.npy\u001b[39;49m\u001b[38;5;124;43m\"\u001b[39;49m\u001b[43m)\u001b[49m\n\u001b[1;32m      5\u001b[0m \u001b[43m)\u001b[49m\n\u001b[1;32m      6\u001b[0m axon_proof_root_ids \u001b[38;5;241m=\u001b[39m np\u001b[38;5;241m.\u001b[39mload(pjoin(data_dir, \u001b[38;5;124mf\u001b[39m\u001b[38;5;124m\"\u001b[39m\u001b[38;5;124mproofread_axon_list_\u001b[39m\u001b[38;5;132;01m{\u001b[39;00mmat_version\u001b[38;5;132;01m}\u001b[39;00m\u001b[38;5;124m.npy\u001b[39m\u001b[38;5;124m\"\u001b[39m))\n\u001b[1;32m      8\u001b[0m \u001b[38;5;28mprint\u001b[39m(\n\u001b[1;32m      9\u001b[0m     \u001b[38;5;124mf\u001b[39m\u001b[38;5;124m\"\u001b[39m\u001b[38;5;124mThere are \u001b[39m\u001b[38;5;132;01m{\u001b[39;00m\u001b[38;5;28mlen\u001b[39m(dendrite_proof_root_ids)\u001b[38;5;132;01m}\u001b[39;00m\u001b[38;5;124m cells with acceptable dendrites, and \u001b[39m\u001b[38;5;132;01m{\u001b[39;00m\u001b[38;5;28mlen\u001b[39m(axon_proof_root_ids)\u001b[38;5;132;01m}\u001b[39;00m\u001b[38;5;124m cells with axon proofreading\u001b[39m\u001b[38;5;124m\"\u001b[39m\n\u001b[1;32m     10\u001b[0m )\n",
      "File \u001b[0;32m/opt/conda/lib/python3.10/site-packages/numpy/lib/_npyio_impl.py:451\u001b[0m, in \u001b[0;36mload\u001b[0;34m(file, mmap_mode, allow_pickle, fix_imports, encoding, max_header_size)\u001b[0m\n\u001b[1;32m    449\u001b[0m     own_fid \u001b[38;5;241m=\u001b[39m \u001b[38;5;28;01mFalse\u001b[39;00m\n\u001b[1;32m    450\u001b[0m \u001b[38;5;28;01melse\u001b[39;00m:\n\u001b[0;32m--> 451\u001b[0m     fid \u001b[38;5;241m=\u001b[39m stack\u001b[38;5;241m.\u001b[39menter_context(\u001b[38;5;28;43mopen\u001b[39;49m\u001b[43m(\u001b[49m\u001b[43mos\u001b[49m\u001b[38;5;241;43m.\u001b[39;49m\u001b[43mfspath\u001b[49m\u001b[43m(\u001b[49m\u001b[43mfile\u001b[49m\u001b[43m)\u001b[49m\u001b[43m,\u001b[49m\u001b[43m \u001b[49m\u001b[38;5;124;43m\"\u001b[39;49m\u001b[38;5;124;43mrb\u001b[39;49m\u001b[38;5;124;43m\"\u001b[39;49m\u001b[43m)\u001b[49m)\n\u001b[1;32m    452\u001b[0m     own_fid \u001b[38;5;241m=\u001b[39m \u001b[38;5;28;01mTrue\u001b[39;00m\n\u001b[1;32m    454\u001b[0m \u001b[38;5;66;03m# Code to distinguish from NumPy binary files and pickles.\u001b[39;00m\n",
      "\u001b[0;31mFileNotFoundError\u001b[0m: [Errno 2] No such file or directory: '/data/v1dd_1196/proofread_dendrite_list_1196.npy'"
     ]
    }
   ],
   "source": [
    "data_dir = _get_data_dir(linux_mount_location=None, windows_usb_drive=None)\n",
    "# Loads cells with axon and dendrite proofreading\n",
    "dendrite_proof_root_ids = np.load(\n",
    "    pjoin(data_dir, f\"proofread_dendrite_list_{mat_version}.npy\")\n",
    ")\n",
    "axon_proof_root_ids = np.load(pjoin(data_dir, f\"proofread_axon_list_{mat_version}.npy\"))\n",
    "\n",
    "print(\n",
    "    f\"There are {len(dendrite_proof_root_ids)} cells with acceptable dendrites, and {len(axon_proof_root_ids)} cells with axon proofreading\"\n",
    ")\n",
    "print(\n",
    "    f\"The number of cells with usable axons and dendrites is: {(np.isin(axon_proof_root_ids, dendrite_proof_root_ids).sum())}\"\n",
    ")\n",
    "\n",
    "axon_proof_root_ids\n"
   ]
  }
 ],
 "metadata": {
  "kernelspec": {
   "display_name": "Python 3 (ipykernel)",
   "language": "python",
   "name": "python3"
  },
  "language_info": {
   "codemirror_mode": {
    "name": "ipython",
    "version": 3
   },
   "file_extension": ".py",
   "mimetype": "text/x-python",
   "name": "python",
   "nbconvert_exporter": "python",
   "pygments_lexer": "ipython3",
   "version": "3.10.12"
  }
 },
 "nbformat": 4,
 "nbformat_minor": 5
}
